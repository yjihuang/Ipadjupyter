{
 "cells": [
  {
   "cell_type": "code",
   "execution_count": 35,
   "metadata": {},
   "outputs": [
    {
     "name": "stdout",
     "output_type": "stream",
     "text": [
      "{'我': 4, '是': 2, '谁': 1, '爱': 1, '你': 1}\n",
      "{'UNK': 0, 'PAD': 1, '我': 2, '是': 3, '谁': 4, '爱': 5, '你': 6}\n",
      "[2, 5, 6, 1, 1, 1, 1, 1, 1, 1]\n",
      "['PAD', '我', '是']\n"
     ]
    }
   ],
   "source": [
    "import numpy as np\n",
    "\n",
    "class Word2Sequence:\n",
    "    UNK_TAG = \"UNK\"    ### 未出现词\n",
    "    PAD_TAG = \"PAD\"    ###  填充\n",
    "    \n",
    "    UNK = 0\n",
    "    PAD = 1\n",
    "    \n",
    "    def __init__(self):\n",
    "        self.dict = {\n",
    "            self.UNK_TAG:self.UNK,\n",
    "            self.PAD_TAG:self.PAD\n",
    "        }\n",
    "    \n",
    "        self.count = {}   ##  统计词频\n",
    "        \n",
    "    def fit(self,sentence):\n",
    "        ###   把句子中的词语存入count中，并统计其出现次数\n",
    "        ###   输入的句子为分词后的列表，[word1,word2,word3,...]\n",
    "        for word in sentence:\n",
    "            self.count[word] = self.count.get(word,0) + 1\n",
    "    \n",
    "    def build_vocab(self, min = None, max = None, max_features = None):\n",
    "        ###   生成词典\n",
    "        ###   min：出现的最小次数，max：最大次数，max_features：一共保留多少个词语\n",
    "        if min is not None:\n",
    "            ###   删除count中词频小于min的word\n",
    "            self.count = {word:value for word,value in self.count.items() if value>min}\n",
    "        if max is not None:\n",
    "            self.count = {word:value for word,value in self.count.items() if value<max}\n",
    "        if max_features is not None:\n",
    "            temp = sorted(self.count.items(),key=lambda x:x[-1],reverse=Ture)[:max_features]\n",
    "            self.count = dict(temp)\n",
    "        \n",
    "        for word in self.count:\n",
    "            self.dict[word] = len(self.dict)\n",
    "        \n",
    "        self.inverse_dict = dict(zip(self.dict.values(),self.dict.keys()))\n",
    "        \n",
    "    def transform(self,sentence,max_len=None):\n",
    "        ###   把句子转化成序列\n",
    "        if max_len is not None:\n",
    "            if max_len > len(sentence):\n",
    "                sentence = sentence + [self.PAD_TAG]*(max_len-len(sentence))   ###  填充\n",
    "            if max_len < len(sentence):\n",
    "                sentence = sentence[:max_len]                                  ###  裁剪\n",
    "        \n",
    "        return [self.dict.get(word,self.UNK) for word in sentence]\n",
    "    \n",
    "    def inverse_transform(self,indices):\n",
    "        ###   序列转化成句子\n",
    "        return [self.inverse_dict.get(idx) for idx in indices]\n",
    "    \n",
    "    \n",
    "if __name__ =='__main__':\n",
    "    w2s = Word2Sequence()\n",
    "    w2s.fit([\"我\",\"是\",\"谁\"])\n",
    "    w2s.fit([\"我\",\"是\",\"我\"])\n",
    "    w2s.fit([\"我\",\"爱\",\"你\"])\n",
    "    w2s.build_vocab()\n",
    "    print(w2s.count)\n",
    "    print(w2s.dict)\n",
    "    \n",
    "    re1 = w2s.transform([\"我\",\"爱\",\"你\"],max_len=10)\n",
    "    re2 = w2s.inverse_transform([1,2,3])\n",
    "    print(re1)\n",
    "    print(re2)"
   ]
  },
  {
   "cell_type": "code",
   "execution_count": null,
   "metadata": {},
   "outputs": [],
   "source": []
  }
 ],
 "metadata": {
  "kernelspec": {
   "display_name": "Python 3",
   "language": "python",
   "name": "python3"
  },
  "language_info": {
   "codemirror_mode": {
    "name": "ipython",
    "version": 3
   },
   "file_extension": ".py",
   "mimetype": "text/x-python",
   "name": "python",
   "nbconvert_exporter": "python",
   "pygments_lexer": "ipython3",
   "version": "3.8.3"
  }
 },
 "nbformat": 4,
 "nbformat_minor": 4
}
